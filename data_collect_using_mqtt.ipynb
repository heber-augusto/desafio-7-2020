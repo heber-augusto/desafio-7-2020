{
  "nbformat": 4,
  "nbformat_minor": 0,
  "metadata": {
    "colab": {
      "name": "data-collect-using-mqtt.ipynb",
      "provenance": [],
      "collapsed_sections": [],
      "mount_file_id": "1oGQ58dxVxYmAhhgKgTYzSH6gnVyC-pQY",
      "authorship_tag": "ABX9TyOh2C3n+1tcLZIhTX0YFi68",
      "include_colab_link": true
    },
    "kernelspec": {
      "name": "python3",
      "display_name": "Python 3"
    }
  },
  "cells": [
    {
      "cell_type": "markdown",
      "metadata": {
        "id": "view-in-github",
        "colab_type": "text"
      },
      "source": [
        "<a href=\"https://colab.research.google.com/github/heber-augusto/desafio-7-2020/blob/master/data_collect_using_mqtt.ipynb\" target=\"_parent\"><img src=\"https://colab.research.google.com/assets/colab-badge.svg\" alt=\"Open In Colab\"/></a>"
      ]
    },
    {
      "cell_type": "code",
      "metadata": {
        "id": "dpidkuPWWryx",
        "colab_type": "code",
        "colab": {
          "base_uri": "https://localhost:8080/",
          "height": 54
        },
        "outputId": "dddaf44a-a747-4eb0-b051-77d547b8fed3"
      },
      "source": [
        "from google.colab import drive\n",
        "drive.mount('/content/drive')\n",
        "\n",
        "%cd /content/drive/My\\ Drive/repos/desafio-7-2020\n"
      ],
      "execution_count": 1,
      "outputs": [
        {
          "output_type": "stream",
          "text": [
            "Drive already mounted at /content/drive; to attempt to forcibly remount, call drive.mount(\"/content/drive\", force_remount=True).\n",
            "/content/drive/My Drive/repos/desafio-7-2020\n"
          ],
          "name": "stdout"
        }
      ]
    },
    {
      "cell_type": "code",
      "metadata": {
        "id": "c6HQCDY8SBOz",
        "colab_type": "code",
        "colab": {
          "base_uri": "https://localhost:8080/",
          "height": 219
        },
        "outputId": "505c4ecd-345c-4bf7-f2c8-48769dd458c7"
      },
      "source": [
        "pip install paho-mqtt"
      ],
      "execution_count": 2,
      "outputs": [
        {
          "output_type": "stream",
          "text": [
            "Collecting paho-mqtt\n",
            "\u001b[?25l  Downloading https://files.pythonhosted.org/packages/59/11/1dd5c70f0f27a88a3a05772cd95f6087ac479fac66d9c7752ee5e16ddbbc/paho-mqtt-1.5.0.tar.gz (99kB)\n",
            "\r\u001b[K     |███▎                            | 10kB 17.2MB/s eta 0:00:01\r\u001b[K     |██████▋                         | 20kB 1.9MB/s eta 0:00:01\r\u001b[K     |█████████▉                      | 30kB 2.2MB/s eta 0:00:01\r\u001b[K     |█████████████▏                  | 40kB 2.5MB/s eta 0:00:01\r\u001b[K     |████████████████▌               | 51kB 2.4MB/s eta 0:00:01\r\u001b[K     |███████████████████▊            | 61kB 2.7MB/s eta 0:00:01\r\u001b[K     |███████████████████████         | 71kB 2.9MB/s eta 0:00:01\r\u001b[K     |██████████████████████████▍     | 81kB 3.1MB/s eta 0:00:01\r\u001b[K     |█████████████████████████████▋  | 92kB 3.1MB/s eta 0:00:01\r\u001b[K     |████████████████████████████████| 102kB 2.5MB/s \n",
            "\u001b[?25hBuilding wheels for collected packages: paho-mqtt\n",
            "  Building wheel for paho-mqtt (setup.py) ... \u001b[?25l\u001b[?25hdone\n",
            "  Created wheel for paho-mqtt: filename=paho_mqtt-1.5.0-cp36-none-any.whl size=61415 sha256=79a6d564339a6a690c1c85cbbd5e67614071bf323b6403624de214e1c563ae99\n",
            "  Stored in directory: /root/.cache/pip/wheels/02/94/6c/8474137cb7a5a3e001d70a22c8ff919caee69435376bccce79\n",
            "Successfully built paho-mqtt\n",
            "Installing collected packages: paho-mqtt\n",
            "Successfully installed paho-mqtt-1.5.0\n"
          ],
          "name": "stdout"
        }
      ]
    },
    {
      "cell_type": "code",
      "metadata": {
        "id": "v7nuUvpBSFVp",
        "colab_type": "code",
        "colab": {
          "base_uri": "https://localhost:8080/",
          "height": 1000
        },
        "outputId": "738e1d7d-c3f8-406e-ba07-880dc21ed523"
      },
      "source": [
        "import paho.mqtt.client as mqtt\n",
        "import json\n",
        "import csv\n",
        "\n",
        "all_rows_ids = []\n",
        "csv_file = open('some.csv', 'w', newline='')\n",
        "writer = None\n",
        "\n",
        "# The callback for when the client receives a CONNACK response from the server.\n",
        "def on_connect(client, userdata, flags, rc):\n",
        "    print(\"Connected with result code \"+str(rc))\n",
        "    # Subscribing in on_connect() means that if we lose the connection and\n",
        "    # reconnect then subscriptions will be renewed.\n",
        "    client.subscribe(\"tnt\")\n",
        "\n",
        "\n",
        "\n",
        "# The callback for when the client receives a CONNACK response from the server.\n",
        "def on_disconnect(client, userdata, rc):\n",
        "    if rc != 0:\n",
        "        print(f\"Unexpected disconnection: {rc}\")\n",
        "       \n",
        "\n",
        "\n",
        "# The callback for when a PUBLISH message is received from the server.\n",
        "def on_message(client, userdata, msg):\n",
        "    global all_rows_ids\n",
        "    global csv_file\n",
        "    global writer\n",
        "\n",
        "    current_row    = json.loads(msg.payload)\n",
        "    current_row_id = current_row['row']\n",
        "    # 17016 is the total number of rows. call diconnect() when finish \n",
        "    # saving all rows\n",
        "    if len(all_rows_ids) >= 17016:\n",
        "        client.disconnect()\n",
        "        return\n",
        "\n",
        "    # at the first row, save the header\n",
        "    if len(all_rows_ids) == 0:\n",
        "        field_names = list(current_row.keys())\n",
        "        writer = csv.DictWriter(csv_file, fieldnames=field_names)\n",
        "        writer.writeheader()        \n",
        "\n",
        "    # if the id is already saved, return without including it at the file\n",
        "    if current_row_id in all_rows_ids:\n",
        "        return\n",
        "\n",
        "    # append the current row to a list that is used to check repetition\n",
        "    all_rows_ids.append(current_row_id)\n",
        "\n",
        "    # create the row into the file\n",
        "    writer.writerow(current_row)\n",
        "\n",
        "    # print status for each 100 rows\n",
        "    if (len(all_rows_ids) % 100) == 0:\n",
        "        print(f'coletados {len(all_rows_ids)} registros')\n",
        "\n",
        "    # print(f'{msg.topic} {current_row_id}: {current_row}')\n",
        "\n",
        "client = mqtt.Client()\n",
        "client.on_connect = on_connect\n",
        "client.on_message = on_message\n",
        "client.on_disconnect = on_disconnect\n",
        "client.username_pw_set('maratoners','ndsjknvkdnvjsbvj')\n",
        "client.reconnect_delay_set(1,120)\n",
        "print(client.connect(\"tnt-iot.maratona.dev\", 30573, 60))\n",
        "\n",
        "# Blocking call that processes network traffic, dispatches callbacks and\n",
        "# handles reconnecting.\n",
        "# Other loop*() functions are available that give a threaded interface and a\n",
        "# manual interface.\n",
        "client.loop_forever()\n",
        "csv_file.close()\n",
        "print(f'coletados {len(all_rows_ids)} registros')"
      ],
      "execution_count": null,
      "outputs": [
        {
          "output_type": "stream",
          "text": [
            "0\n",
            "Connected with result code 0\n",
            "coletados 100 registros\n",
            "coletados 200 registros\n",
            "coletados 300 registros\n",
            "coletados 400 registros\n",
            "coletados 500 registros\n",
            "coletados 600 registros\n",
            "coletados 700 registros\n",
            "coletados 800 registros\n",
            "coletados 900 registros\n",
            "coletados 1000 registros\n",
            "coletados 1100 registros\n",
            "coletados 1200 registros\n",
            "coletados 1300 registros\n",
            "coletados 1400 registros\n",
            "coletados 1500 registros\n",
            "coletados 1600 registros\n",
            "coletados 1700 registros\n",
            "coletados 1800 registros\n",
            "coletados 1900 registros\n",
            "coletados 2000 registros\n",
            "coletados 2100 registros\n",
            "coletados 2200 registros\n",
            "coletados 2300 registros\n",
            "coletados 2400 registros\n",
            "coletados 2500 registros\n",
            "coletados 2600 registros\n",
            "coletados 2700 registros\n",
            "coletados 2800 registros\n",
            "coletados 2900 registros\n",
            "coletados 3000 registros\n",
            "coletados 3100 registros\n",
            "coletados 3200 registros\n",
            "coletados 3300 registros\n",
            "coletados 3400 registros\n",
            "coletados 3500 registros\n",
            "coletados 3600 registros\n",
            "coletados 3700 registros\n",
            "coletados 3800 registros\n",
            "coletados 3900 registros\n",
            "coletados 4000 registros\n",
            "coletados 4100 registros\n",
            "coletados 4200 registros\n",
            "coletados 4300 registros\n",
            "coletados 4400 registros\n",
            "coletados 4500 registros\n",
            "coletados 4600 registros\n",
            "coletados 4700 registros\n",
            "coletados 4800 registros\n",
            "coletados 4900 registros\n",
            "coletados 5000 registros\n",
            "coletados 5100 registros\n",
            "coletados 5200 registros\n",
            "coletados 5300 registros\n",
            "coletados 5400 registros\n",
            "coletados 5500 registros\n",
            "coletados 5600 registros\n",
            "coletados 5700 registros\n",
            "coletados 5800 registros\n",
            "coletados 5900 registros\n",
            "coletados 6000 registros\n",
            "coletados 6100 registros\n",
            "coletados 6200 registros\n",
            "coletados 6300 registros\n",
            "coletados 6400 registros\n",
            "coletados 6500 registros\n",
            "coletados 6600 registros\n",
            "coletados 6700 registros\n",
            "coletados 6800 registros\n",
            "coletados 6900 registros\n",
            "coletados 7000 registros\n",
            "coletados 7100 registros\n",
            "coletados 7200 registros\n",
            "coletados 7300 registros\n",
            "coletados 7400 registros\n",
            "coletados 7500 registros\n",
            "coletados 7600 registros\n",
            "coletados 7700 registros\n",
            "coletados 7800 registros\n",
            "coletados 7900 registros\n",
            "coletados 8000 registros\n",
            "coletados 8100 registros\n",
            "coletados 8200 registros\n",
            "coletados 8300 registros\n",
            "coletados 8400 registros\n",
            "coletados 8500 registros\n",
            "coletados 8600 registros\n",
            "coletados 8700 registros\n",
            "coletados 8800 registros\n",
            "coletados 8900 registros\n",
            "coletados 9000 registros\n",
            "coletados 9100 registros\n",
            "coletados 9200 registros\n",
            "coletados 9300 registros\n",
            "coletados 9400 registros\n",
            "coletados 9500 registros\n",
            "coletados 9600 registros\n",
            "coletados 9700 registros\n",
            "coletados 9800 registros\n",
            "coletados 9900 registros\n",
            "coletados 10000 registros\n",
            "coletados 10100 registros\n",
            "coletados 10200 registros\n",
            "coletados 10300 registros\n",
            "coletados 10400 registros\n",
            "coletados 10500 registros\n",
            "coletados 10600 registros\n",
            "coletados 10700 registros\n",
            "coletados 10800 registros\n",
            "coletados 10900 registros\n",
            "coletados 11000 registros\n",
            "coletados 11100 registros\n",
            "coletados 11200 registros\n",
            "coletados 11300 registros\n",
            "coletados 11400 registros\n",
            "coletados 11500 registros\n"
          ],
          "name": "stdout"
        }
      ]
    },
    {
      "cell_type": "code",
      "metadata": {
        "id": "T_coS7KQWoaq",
        "colab_type": "code",
        "colab": {}
      },
      "source": [
        ""
      ],
      "execution_count": null,
      "outputs": []
    }
  ]
}