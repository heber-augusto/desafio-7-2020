{
 "cells": [
  {
   "cell_type": "code",
   "execution_count": 1,
   "metadata": {},
   "outputs": [],
   "source": [
    "# @hidden_cell\n",
    "# The project token is an authorization token that is used to access project resources like data sources, connections, and used by platform APIs.\n",
    "from project_lib import Project\n",
    "project = Project(project_id='eaf2da22-67e5-4cb7-9e74-8c008d831d42', project_access_token='p-e10baaf23dfcc50b7aa7730ce97bc2285ab32a19')\n",
    "pc = project.project_context\n"
   ]
  },
  {
   "cell_type": "code",
   "execution_count": null,
   "metadata": {},
   "outputs": [],
   "source": [
    "# Insira seu project token aqui\n"
   ]
  },
  {
   "cell_type": "markdown",
   "metadata": {
    "collapsed": true
   },
   "source": [
    "# MARATONA BEHIND THE CODE 2020\n",
    "\n",
    "## DESAFIO 7 - TNT"
   ]
  },
  {
   "cell_type": "markdown",
   "metadata": {},
   "source": [
    "<hr>"
   ]
  },
  {
   "cell_type": "markdown",
   "metadata": {},
   "source": [
    "## Installing Libs"
   ]
  },
  {
   "cell_type": "code",
   "execution_count": 2,
   "metadata": {},
   "outputs": [
    {
     "name": "stdout",
     "output_type": "stream",
     "text": [
      "Collecting scikit-learn\n",
      "\u001b[?25l  Downloading https://files.pythonhosted.org/packages/5c/a1/273def87037a7fb010512bbc5901c31cfddfca8080bc63b42b26e3cc55b3/scikit_learn-0.23.2-cp36-cp36m-manylinux1_x86_64.whl (6.8MB)\n",
      "\u001b[K     |████████████████████████████████| 6.8MB 6.9MB/s eta 0:00:01\n",
      "\u001b[?25hRequirement already satisfied, skipping upgrade: scipy>=0.19.1 in /opt/conda/envs/Python36/lib/python3.6/site-packages (from scikit-learn) (1.2.0)\n",
      "Collecting joblib>=0.11 (from scikit-learn)\n",
      "\u001b[?25l  Downloading https://files.pythonhosted.org/packages/51/dd/0e015051b4a27ec5a58b02ab774059f3289a94b0906f880a3f9507e74f38/joblib-0.16.0-py3-none-any.whl (300kB)\n",
      "\u001b[K     |████████████████████████████████| 307kB 41.0MB/s eta 0:00:01\n",
      "\u001b[?25hRequirement already satisfied, skipping upgrade: numpy>=1.13.3 in /opt/conda/envs/Python36/lib/python3.6/site-packages (from scikit-learn) (1.15.4)\n",
      "Collecting threadpoolctl>=2.0.0 (from scikit-learn)\n",
      "  Downloading https://files.pythonhosted.org/packages/f7/12/ec3f2e203afa394a149911729357aa48affc59c20e2c1c8297a60f33f133/threadpoolctl-2.1.0-py3-none-any.whl\n",
      "\u001b[31mERROR: autoai-libs 1.10.5 has requirement numpy>=1.16.4, but you'll have numpy 1.15.4 which is incompatible.\u001b[0m\n",
      "\u001b[31mERROR: autoai-libs 1.10.5 has requirement pandas>=0.24.2, but you'll have pandas 0.24.1 which is incompatible.\u001b[0m\n",
      "\u001b[31mERROR: autoai-libs 1.10.5 has requirement scikit-learn==0.20.3, but you'll have scikit-learn 0.23.2 which is incompatible.\u001b[0m\n",
      "Installing collected packages: joblib, threadpoolctl, scikit-learn\n",
      "  Found existing installation: scikit-learn 0.20.3\n",
      "    Uninstalling scikit-learn-0.20.3:\n",
      "      Successfully uninstalled scikit-learn-0.20.3\n",
      "Successfully installed joblib-0.16.0 scikit-learn-0.23.2 threadpoolctl-2.1.0\n"
     ]
    }
   ],
   "source": [
    "!pip install scikit-learn --upgrade"
   ]
  },
  {
   "cell_type": "code",
   "execution_count": 3,
   "metadata": {},
   "outputs": [
    {
     "name": "stdout",
     "output_type": "stream",
     "text": [
      "Collecting xgboost\n",
      "\u001b[?25l  Downloading https://files.pythonhosted.org/packages/f6/5c/1133b5b8f4f2fa740ff27abdd35b8e79ce6e1f8d6480a07e9bce1cdafea2/xgboost-1.2.0-py3-none-manylinux2010_x86_64.whl (148.9MB)\n",
      "\u001b[K     |████████████████████████████████| 148.9MB 48.5MB/s eta 0:00:01MB 8.6MB/s eta 0:00:13\n",
      "\u001b[?25hRequirement already satisfied, skipping upgrade: scipy in /opt/conda/envs/Python36/lib/python3.6/site-packages (from xgboost) (1.2.0)\n",
      "Requirement already satisfied, skipping upgrade: numpy in /opt/conda/envs/Python36/lib/python3.6/site-packages (from xgboost) (1.15.4)\n",
      "Installing collected packages: xgboost\n",
      "Successfully installed xgboost-1.2.0\n"
     ]
    }
   ],
   "source": [
    "!pip install xgboost --upgrade"
   ]
  },
  {
   "cell_type": "code",
   "execution_count": 4,
   "metadata": {},
   "outputs": [
    {
     "name": "stdout",
     "output_type": "stream",
     "text": [
      "Collecting imblearn\n",
      "  Downloading https://files.pythonhosted.org/packages/81/a7/4179e6ebfd654bd0eac0b9c06125b8b4c96a9d0a8ff9e9507eb2a26d2d7e/imblearn-0.0-py2.py3-none-any.whl\n",
      "Collecting imbalanced-learn (from imblearn)\n",
      "\u001b[?25l  Downloading https://files.pythonhosted.org/packages/c8/81/8db4d87b03b998fda7c6f835d807c9ae4e3b141f978597b8d7f31600be15/imbalanced_learn-0.7.0-py3-none-any.whl (167kB)\n",
      "\u001b[K     |████████████████████████████████| 174kB 5.9MB/s eta 0:00:01\n",
      "\u001b[?25hRequirement already satisfied, skipping upgrade: numpy>=1.13.3 in /opt/conda/envs/Python36/lib/python3.6/site-packages (from imbalanced-learn->imblearn) (1.15.4)\n",
      "Requirement already satisfied, skipping upgrade: joblib>=0.11 in /opt/conda/envs/Python36/lib/python3.6/site-packages (from imbalanced-learn->imblearn) (0.16.0)\n",
      "Requirement already satisfied, skipping upgrade: scipy>=0.19.1 in /opt/conda/envs/Python36/lib/python3.6/site-packages (from imbalanced-learn->imblearn) (1.2.0)\n",
      "Requirement already satisfied, skipping upgrade: scikit-learn>=0.23 in /opt/conda/envs/Python36/lib/python3.6/site-packages (from imbalanced-learn->imblearn) (0.23.2)\n",
      "Requirement already satisfied, skipping upgrade: threadpoolctl>=2.0.0 in /opt/conda/envs/Python36/lib/python3.6/site-packages (from scikit-learn>=0.23->imbalanced-learn->imblearn) (2.1.0)\n",
      "Installing collected packages: imbalanced-learn, imblearn\n",
      "Successfully installed imbalanced-learn-0.7.0 imblearn-0.0\n"
     ]
    }
   ],
   "source": [
    "!pip install imblearn --upgrade"
   ]
  },
  {
   "cell_type": "markdown",
   "metadata": {},
   "source": [
    "<hr>"
   ]
  },
  {
   "cell_type": "markdown",
   "metadata": {},
   "source": [
    "## Download dos conjuntos de dados em formato .csv"
   ]
  },
  {
   "cell_type": "code",
   "execution_count": 5,
   "metadata": {},
   "outputs": [],
   "source": [
    "import pandas as pd"
   ]
  },
  {
   "cell_type": "code",
   "execution_count": 8,
   "metadata": {},
   "outputs": [
    {
     "data": {
      "text/html": [
       "<div>\n",
       "<style scoped>\n",
       "    .dataframe tbody tr th:only-of-type {\n",
       "        vertical-align: middle;\n",
       "    }\n",
       "\n",
       "    .dataframe tbody tr th {\n",
       "        vertical-align: top;\n",
       "    }\n",
       "\n",
       "    .dataframe thead th {\n",
       "        text-align: right;\n",
       "    }\n",
       "</style>\n",
       "<table border=\"1\" class=\"dataframe\">\n",
       "  <thead>\n",
       "    <tr style=\"text-align: right;\">\n",
       "      <th></th>\n",
       "      <th>Tempo</th>\n",
       "      <th>Estação</th>\n",
       "      <th>LAT</th>\n",
       "      <th>LONG</th>\n",
       "      <th>Movimentação</th>\n",
       "      <th>Original_473</th>\n",
       "      <th>Original_269</th>\n",
       "      <th>Zero</th>\n",
       "      <th>Maçã-Verde</th>\n",
       "      <th>Tangerina</th>\n",
       "      <th>Citrus</th>\n",
       "      <th>Açaí-Guaraná</th>\n",
       "      <th>Pêssego</th>\n",
       "      <th>TARGET</th>\n",
       "      <th>row</th>\n",
       "    </tr>\n",
       "  </thead>\n",
       "  <tbody>\n",
       "    <tr>\n",
       "      <th>0</th>\n",
       "      <td>2018-6-17</td>\n",
       "      <td>Paraíso</td>\n",
       "      <td>-23.57677</td>\n",
       "      <td>-46.63933</td>\n",
       "      <td>71284</td>\n",
       "      <td>10</td>\n",
       "      <td>37</td>\n",
       "      <td>18</td>\n",
       "      <td>23</td>\n",
       "      <td>7</td>\n",
       "      <td>22</td>\n",
       "      <td>33</td>\n",
       "      <td>8</td>\n",
       "      <td>REABASTECER</td>\n",
       "      <td>167</td>\n",
       "    </tr>\n",
       "    <tr>\n",
       "      <th>1</th>\n",
       "      <td>2019-9-5</td>\n",
       "      <td>Paraíso</td>\n",
       "      <td>-23.57677</td>\n",
       "      <td>-46.63933</td>\n",
       "      <td>72460</td>\n",
       "      <td>58</td>\n",
       "      <td>12</td>\n",
       "      <td>38</td>\n",
       "      <td>3</td>\n",
       "      <td>43</td>\n",
       "      <td>10</td>\n",
       "      <td>18</td>\n",
       "      <td>5</td>\n",
       "      <td>REABASTECER</td>\n",
       "      <td>605</td>\n",
       "    </tr>\n",
       "    <tr>\n",
       "      <th>2</th>\n",
       "      <td>2019-9-13</td>\n",
       "      <td>Paraíso</td>\n",
       "      <td>-23.57677</td>\n",
       "      <td>-46.63933</td>\n",
       "      <td>71020</td>\n",
       "      <td>67</td>\n",
       "      <td>36</td>\n",
       "      <td>50</td>\n",
       "      <td>16</td>\n",
       "      <td>10</td>\n",
       "      <td>30</td>\n",
       "      <td>30</td>\n",
       "      <td>18</td>\n",
       "      <td>NORMAL</td>\n",
       "      <td>613</td>\n",
       "    </tr>\n",
       "    <tr>\n",
       "      <th>3</th>\n",
       "      <td>2018-7-6</td>\n",
       "      <td>Paraíso</td>\n",
       "      <td>-23.57677</td>\n",
       "      <td>-46.63933</td>\n",
       "      <td>70563</td>\n",
       "      <td>78</td>\n",
       "      <td>39</td>\n",
       "      <td>13</td>\n",
       "      <td>17</td>\n",
       "      <td>26</td>\n",
       "      <td>4</td>\n",
       "      <td>43</td>\n",
       "      <td>13</td>\n",
       "      <td>NORMAL</td>\n",
       "      <td>186</td>\n",
       "    </tr>\n",
       "    <tr>\n",
       "      <th>4</th>\n",
       "      <td>2018-12-17</td>\n",
       "      <td>Paraíso</td>\n",
       "      <td>-23.57677</td>\n",
       "      <td>-46.63933</td>\n",
       "      <td>72995</td>\n",
       "      <td>42</td>\n",
       "      <td>53</td>\n",
       "      <td>25</td>\n",
       "      <td>32</td>\n",
       "      <td>10</td>\n",
       "      <td>34</td>\n",
       "      <td>38</td>\n",
       "      <td>15</td>\n",
       "      <td>NORMAL</td>\n",
       "      <td>347</td>\n",
       "    </tr>\n",
       "  </tbody>\n",
       "</table>\n",
       "</div>"
      ],
      "text/plain": [
       "        Tempo  Estação       LAT      LONG  Movimentação  Original_473  \\\n",
       "0   2018-6-17  Paraíso -23.57677 -46.63933         71284            10   \n",
       "1    2019-9-5  Paraíso -23.57677 -46.63933         72460            58   \n",
       "2   2019-9-13  Paraíso -23.57677 -46.63933         71020            67   \n",
       "3    2018-7-6  Paraíso -23.57677 -46.63933         70563            78   \n",
       "4  2018-12-17  Paraíso -23.57677 -46.63933         72995            42   \n",
       "\n",
       "   Original_269  Zero  Maçã-Verde  Tangerina  Citrus  Açaí-Guaraná  Pêssego  \\\n",
       "0            37    18          23          7      22            33        8   \n",
       "1            12    38           3         43      10            18        5   \n",
       "2            36    50          16         10      30            30       18   \n",
       "3            39    13          17         26       4            43       13   \n",
       "4            53    25          32         10      34            38       15   \n",
       "\n",
       "        TARGET  row  \n",
       "0  REABASTECER  167  \n",
       "1  REABASTECER  605  \n",
       "2       NORMAL  613  \n",
       "3       NORMAL  186  \n",
       "4       NORMAL  347  "
      ]
     },
     "execution_count": 8,
     "metadata": {},
     "output_type": "execute_result"
    }
   ],
   "source": [
    "import types\n",
    "import pandas as pd\n",
    "from botocore.client import Config\n",
    "import ibm_boto3\n",
    "\n",
    "def __iter__(self): return 0\n",
    "\n",
    "# @hidden_cell\n",
    "# The following code accesses a file in your IBM Cloud Object Storage. It includes your credentials.\n",
    "# You might want to remove those credentials before you share the notebook.\n",
    "client_aae4ea247eba467f9f5e1751a69700cd = ibm_boto3.client(service_name='s3',\n",
    "    ibm_api_key_id='OxZSDLolMTkb3PF-HQMbnEggMnompvbQKHcfgTyHplJo',\n",
    "    ibm_auth_endpoint=\"https://iam.cloud.ibm.com/oidc/token\",\n",
    "    config=Config(signature_version='oauth'),\n",
    "    endpoint_url='https://s3-api.us-geo.objectstorage.service.networklayer.com')\n",
    "\n",
    "body = client_aae4ea247eba467f9f5e1751a69700cd.get_object(Bucket='desafio7-donotdelete-pr-mjose7a3gb8ama',Key='training_data.csv')['Body']\n",
    "# add missing __iter__ method, so pandas accepts body as file-like object\n",
    "if not hasattr(body, \"__iter__\"): body.__iter__ = types.MethodType( __iter__, body )\n",
    "\n",
    "df_data_1 = pd.read_csv(body)\n",
    "df_data_1.head()\n"
   ]
  },
  {
   "cell_type": "code",
   "execution_count": 9,
   "metadata": {},
   "outputs": [
    {
     "data": {
      "text/html": [
       "<div>\n",
       "<style scoped>\n",
       "    .dataframe tbody tr th:only-of-type {\n",
       "        vertical-align: middle;\n",
       "    }\n",
       "\n",
       "    .dataframe tbody tr th {\n",
       "        vertical-align: top;\n",
       "    }\n",
       "\n",
       "    .dataframe thead th {\n",
       "        text-align: right;\n",
       "    }\n",
       "</style>\n",
       "<table border=\"1\" class=\"dataframe\">\n",
       "  <thead>\n",
       "    <tr style=\"text-align: right;\">\n",
       "      <th></th>\n",
       "      <th>Tempo</th>\n",
       "      <th>Estação</th>\n",
       "      <th>LAT</th>\n",
       "      <th>LONG</th>\n",
       "      <th>Movimentação</th>\n",
       "      <th>Original_473</th>\n",
       "      <th>Original_269</th>\n",
       "      <th>Zero</th>\n",
       "      <th>Maçã-Verde</th>\n",
       "      <th>Tangerina</th>\n",
       "      <th>Citrus</th>\n",
       "      <th>Açaí-Guaraná</th>\n",
       "      <th>Pêssego</th>\n",
       "      <th>TARGET</th>\n",
       "      <th>row</th>\n",
       "    </tr>\n",
       "  </thead>\n",
       "  <tbody>\n",
       "    <tr>\n",
       "      <th>16761</th>\n",
       "      <td>2018-9-12</td>\n",
       "      <td>Luz</td>\n",
       "      <td>-23.5365</td>\n",
       "      <td>-46.6332</td>\n",
       "      <td>127141</td>\n",
       "      <td>11</td>\n",
       "      <td>32</td>\n",
       "      <td>33</td>\n",
       "      <td>38</td>\n",
       "      <td>17</td>\n",
       "      <td>26</td>\n",
       "      <td>43</td>\n",
       "      <td>40</td>\n",
       "      <td>REABASTECER</td>\n",
       "      <td>11052</td>\n",
       "    </tr>\n",
       "    <tr>\n",
       "      <th>16762</th>\n",
       "      <td>2019-5-25</td>\n",
       "      <td>Ana Rosa</td>\n",
       "      <td>-23.5813</td>\n",
       "      <td>-46.6383</td>\n",
       "      <td>67188</td>\n",
       "      <td>67</td>\n",
       "      <td>9</td>\n",
       "      <td>65</td>\n",
       "      <td>38</td>\n",
       "      <td>28</td>\n",
       "      <td>43</td>\n",
       "      <td>6</td>\n",
       "      <td>2</td>\n",
       "      <td>REABASTECER</td>\n",
       "      <td>12025</td>\n",
       "    </tr>\n",
       "    <tr>\n",
       "      <th>16763</th>\n",
       "      <td>2019-6-24</td>\n",
       "      <td>Ana Rosa</td>\n",
       "      <td>-23.5813</td>\n",
       "      <td>-46.6383</td>\n",
       "      <td>64995</td>\n",
       "      <td>46</td>\n",
       "      <td>49</td>\n",
       "      <td>51</td>\n",
       "      <td>35</td>\n",
       "      <td>33</td>\n",
       "      <td>37</td>\n",
       "      <td>19</td>\n",
       "      <td>17</td>\n",
       "      <td>NORMAL</td>\n",
       "      <td>12054</td>\n",
       "    </tr>\n",
       "    <tr>\n",
       "      <th>16764</th>\n",
       "      <td>2018-9-25</td>\n",
       "      <td>São Joaquim</td>\n",
       "      <td>-23.5618</td>\n",
       "      <td>-46.6389</td>\n",
       "      <td>33082</td>\n",
       "      <td>62</td>\n",
       "      <td>47</td>\n",
       "      <td>34</td>\n",
       "      <td>8</td>\n",
       "      <td>25</td>\n",
       "      <td>43</td>\n",
       "      <td>43</td>\n",
       "      <td>5</td>\n",
       "      <td>REABASTECER</td>\n",
       "      <td>12505</td>\n",
       "    </tr>\n",
       "    <tr>\n",
       "      <th>16765</th>\n",
       "      <td>2018-3-4</td>\n",
       "      <td>São Judas</td>\n",
       "      <td>-23.6255</td>\n",
       "      <td>-46.6411</td>\n",
       "      <td>15307</td>\n",
       "      <td>78</td>\n",
       "      <td>33</td>\n",
       "      <td>44</td>\n",
       "      <td>40</td>\n",
       "      <td>43</td>\n",
       "      <td>25</td>\n",
       "      <td>32</td>\n",
       "      <td>24</td>\n",
       "      <td>NORMAL</td>\n",
       "      <td>13024</td>\n",
       "    </tr>\n",
       "  </tbody>\n",
       "</table>\n",
       "</div>"
      ],
      "text/plain": [
       "           Tempo      Estação      LAT     LONG  Movimentação  Original_473  \\\n",
       "16761  2018-9-12          Luz -23.5365 -46.6332        127141            11   \n",
       "16762  2019-5-25     Ana Rosa -23.5813 -46.6383         67188            67   \n",
       "16763  2019-6-24     Ana Rosa -23.5813 -46.6383         64995            46   \n",
       "16764  2018-9-25  São Joaquim -23.5618 -46.6389         33082            62   \n",
       "16765   2018-3-4    São Judas -23.6255 -46.6411         15307            78   \n",
       "\n",
       "       Original_269  Zero  Maçã-Verde  Tangerina  Citrus  Açaí-Guaraná  \\\n",
       "16761            32    33          38         17      26            43   \n",
       "16762             9    65          38         28      43             6   \n",
       "16763            49    51          35         33      37            19   \n",
       "16764            47    34           8         25      43            43   \n",
       "16765            33    44          40         43      25            32   \n",
       "\n",
       "       Pêssego       TARGET    row  \n",
       "16761       40  REABASTECER  11052  \n",
       "16762        2  REABASTECER  12025  \n",
       "16763       17       NORMAL  12054  \n",
       "16764        5  REABASTECER  12505  \n",
       "16765       24       NORMAL  13024  "
      ]
     },
     "execution_count": 9,
     "metadata": {},
     "output_type": "execute_result"
    }
   ],
   "source": [
    "df_training_dataset = df_data_1\n",
    "df_training_dataset.tail()"
   ]
  },
  {
   "cell_type": "markdown",
   "metadata": {},
   "source": [
    "Sobre o arquivo \"training_dataset.csv\", temos algumas informações gerais sobre os pontos de vendas da TNT:\n",
    "\n",
    "**Tempo**\n",
    "\n",
    "**Estação**\n",
    "\n",
    "**LAT**\n",
    "\n",
    "**LONG**\n",
    "\n",
    "**Movimentação**\n",
    "\n",
    "**Original_473**\n",
    "\n",
    "**Original_269**\n",
    "\n",
    "**Zero**\n",
    "\n",
    "**Maçã-Verde**\n",
    "\n",
    "**Tangerina**\n",
    "\n",
    "**Citrus**\n",
    "\n",
    "**Açaí-Guaraná**\n",
    "\n",
    "**Pêssego**\n",
    "\n",
    "**TARGET**"
   ]
  },
  {
   "cell_type": "code",
   "execution_count": 10,
   "metadata": {},
   "outputs": [
    {
     "name": "stdout",
     "output_type": "stream",
     "text": [
      "<class 'pandas.core.frame.DataFrame'>\n",
      "RangeIndex: 16766 entries, 0 to 16765\n",
      "Data columns (total 15 columns):\n",
      "Tempo           16766 non-null object\n",
      "Estação         16766 non-null object\n",
      "LAT             16766 non-null float64\n",
      "LONG            16766 non-null float64\n",
      "Movimentação    16766 non-null int64\n",
      "Original_473    16766 non-null int64\n",
      "Original_269    16766 non-null int64\n",
      "Zero            16766 non-null int64\n",
      "Maçã-Verde      16766 non-null int64\n",
      "Tangerina       16766 non-null int64\n",
      "Citrus          16766 non-null int64\n",
      "Açaí-Guaraná    16766 non-null int64\n",
      "Pêssego         16766 non-null int64\n",
      "TARGET          16766 non-null object\n",
      "row             16766 non-null int64\n",
      "dtypes: float64(2), int64(10), object(3)\n",
      "memory usage: 1.9+ MB\n"
     ]
    }
   ],
   "source": [
    "df_training_dataset.info()"
   ]
  },
  {
   "cell_type": "code",
   "execution_count": 11,
   "metadata": {},
   "outputs": [
    {
     "data": {
      "text/plain": [
       "Tempo             720\n",
       "Estação            25\n",
       "LAT                25\n",
       "LONG               25\n",
       "Movimentação    14695\n",
       "Original_473       81\n",
       "Original_269       65\n",
       "Zero               63\n",
       "Maçã-Verde         43\n",
       "Tangerina          42\n",
       "Citrus             43\n",
       "Açaí-Guaraná       42\n",
       "Pêssego            42\n",
       "TARGET              2\n",
       "row             16766\n",
       "dtype: int64"
      ]
     },
     "execution_count": 11,
     "metadata": {},
     "output_type": "execute_result"
    }
   ],
   "source": [
    "df_training_dataset.nunique()"
   ]
  },
  {
   "cell_type": "markdown",
   "metadata": {},
   "source": [
    "<hr>\n",
    "\n",
    "## Detalhamento do desafio: classificação binária\n",
    "\n",
    "Este é um desafio cujo objetivo de negócio é a segmentação dos usuários de aplicativo de um banco. Para tal, podemos utilizar duas abordagens: aprendizado de máquina supervisionado (classificação) ou não-supervisionado (clustering). Neste desafio será aplicada a classificação, pois é disponível um dataset já com \"labels\", ou em outras palavras, já com exemplos de dados juntamente com a variável alvo.\n",
    "\n",
    "Na biblioteca scikit-learn temos diversos algoritmos para classificação. O participante é livre para utilizar o framework que desejar para completar esse desafio.\n",
    "\n",
    "Neste notebook será mostrado um exeplo de uso do algoritmo \"Decision Tree\" para classificar parte dos estudantes em seis diferentes perfís."
   ]
  },
  {
   "cell_type": "markdown",
   "metadata": {},
   "source": [
    "# Atenção!\n",
    "\n",
    "A coluna-alvo neste desafio é a coluna ``TARGET``"
   ]
  },
  {
   "cell_type": "markdown",
   "metadata": {},
   "source": [
    "<hr>"
   ]
  },
  {
   "cell_type": "code",
   "execution_count": null,
   "metadata": {},
   "outputs": [],
   "source": []
  },
  {
   "cell_type": "code",
   "execution_count": null,
   "metadata": {},
   "outputs": [],
   "source": []
  },
  {
   "cell_type": "code",
   "execution_count": null,
   "metadata": {},
   "outputs": [],
   "source": []
  },
  {
   "cell_type": "markdown",
   "metadata": {},
   "source": [
    "## Pre-processando o dataset antes do treinamento"
   ]
  },
  {
   "cell_type": "markdown",
   "metadata": {},
   "source": [
    "### Processando valores NaN com o SimpleImputer do sklearn\n",
    "\n",
    "Para os valores NaN, usaremos a substituição pela constante 0 como **exemplo**.\n",
    "\n",
    "Você pode escolher a estratégia que achar melhor para tratar os valores nulos :)\n",
    "\n",
    "Docs: https://scikit-learn.org/stable/modules/generated/sklearn.impute.SimpleImputer.html?highlight=simpleimputer#sklearn.impute.SimpleImputer"
   ]
  },
  {
   "cell_type": "code",
   "execution_count": 12,
   "metadata": {},
   "outputs": [],
   "source": [
    "from sklearn.impute import SimpleImputer\n",
    "import numpy as np\n",
    "\n",
    "\n",
    "impute_zeros = SimpleImputer(\n",
    "    missing_values=np.nan,\n",
    "    strategy='constant',\n",
    "    fill_value=0,\n",
    "    verbose=0,\n",
    "    copy=True\n",
    ")"
   ]
  },
  {
   "cell_type": "code",
   "execution_count": 13,
   "metadata": {},
   "outputs": [
    {
     "name": "stdout",
     "output_type": "stream",
     "text": [
      "Valores nulos no df_training_dataset antes da transformação SimpleImputer: \n",
      "\n",
      "Tempo           0\n",
      "Estação         0\n",
      "LAT             0\n",
      "LONG            0\n",
      "Movimentação    0\n",
      "Original_473    0\n",
      "Original_269    0\n",
      "Zero            0\n",
      "Maçã-Verde      0\n",
      "Tangerina       0\n",
      "Citrus          0\n",
      "Açaí-Guaraná    0\n",
      "Pêssego         0\n",
      "TARGET          0\n",
      "row             0\n",
      "dtype: int64\n",
      "\n",
      "Valores nulos no df_training_dataset após a transformação SimpleImputer: \n",
      "\n",
      "Tempo           0\n",
      "Estação         0\n",
      "LAT             0\n",
      "LONG            0\n",
      "Movimentação    0\n",
      "Original_473    0\n",
      "Original_269    0\n",
      "Zero            0\n",
      "Maçã-Verde      0\n",
      "Tangerina       0\n",
      "Citrus          0\n",
      "Açaí-Guaraná    0\n",
      "Pêssego         0\n",
      "TARGET          0\n",
      "row             0\n",
      "dtype: int64\n",
      "\n"
     ]
    }
   ],
   "source": [
    "# Exibindo os dados ausentes do conjunto de dados antes da primeira transformação (df)\n",
    "print(\"Valores nulos no df_training_dataset antes da transformação SimpleImputer: \\n\\n{}\\n\".format(df_training_dataset.isnull().sum(axis = 0)))\n",
    "\n",
    "# Aplicando a transformação ``SimpleImputer`` no conjunto de dados base\n",
    "impute_zeros.fit(X=df_training_dataset)\n",
    "\n",
    "# Reconstruindo um Pandas DataFrame com os resultados\n",
    "df_training_dataset_imputed = pd.DataFrame.from_records(\n",
    "    data=impute_zeros.transform(\n",
    "        X=df_training_dataset\n",
    "    ),\n",
    "    columns=df_training_dataset.columns\n",
    ")\n",
    "\n",
    "# Exibindo os dados ausentes do conjunto de dados após a primeira transformação (df)\n",
    "print(\"Valores nulos no df_training_dataset após a transformação SimpleImputer: \\n\\n{}\\n\".format(df_training_dataset_imputed.isnull().sum(axis = 0)))"
   ]
  },
  {
   "cell_type": "markdown",
   "metadata": {},
   "source": [
    "### Eliminando colunas indesejadas\n",
    "\n",
    "Vamos **demonstrar** abaixo como usar o método **DataFrame.drop()**.\n",
    "\n",
    "Docs: https://pandas.pydata.org/pandas-docs/stable/reference/api/pandas.DataFrame.drop.html"
   ]
  },
  {
   "cell_type": "code",
   "execution_count": 14,
   "metadata": {},
   "outputs": [
    {
     "data": {
      "text/html": [
       "<div>\n",
       "<style scoped>\n",
       "    .dataframe tbody tr th:only-of-type {\n",
       "        vertical-align: middle;\n",
       "    }\n",
       "\n",
       "    .dataframe tbody tr th {\n",
       "        vertical-align: top;\n",
       "    }\n",
       "\n",
       "    .dataframe thead th {\n",
       "        text-align: right;\n",
       "    }\n",
       "</style>\n",
       "<table border=\"1\" class=\"dataframe\">\n",
       "  <thead>\n",
       "    <tr style=\"text-align: right;\">\n",
       "      <th></th>\n",
       "      <th>Tempo</th>\n",
       "      <th>Estação</th>\n",
       "      <th>LAT</th>\n",
       "      <th>LONG</th>\n",
       "      <th>Movimentação</th>\n",
       "      <th>Original_473</th>\n",
       "      <th>Original_269</th>\n",
       "      <th>Zero</th>\n",
       "      <th>Maçã-Verde</th>\n",
       "      <th>Tangerina</th>\n",
       "      <th>Citrus</th>\n",
       "      <th>Açaí-Guaraná</th>\n",
       "      <th>Pêssego</th>\n",
       "      <th>TARGET</th>\n",
       "      <th>row</th>\n",
       "    </tr>\n",
       "  </thead>\n",
       "  <tbody>\n",
       "    <tr>\n",
       "      <th>16761</th>\n",
       "      <td>2018-9-12</td>\n",
       "      <td>Luz</td>\n",
       "      <td>-23.5365</td>\n",
       "      <td>-46.6332</td>\n",
       "      <td>127141</td>\n",
       "      <td>11</td>\n",
       "      <td>32</td>\n",
       "      <td>33</td>\n",
       "      <td>38</td>\n",
       "      <td>17</td>\n",
       "      <td>26</td>\n",
       "      <td>43</td>\n",
       "      <td>40</td>\n",
       "      <td>REABASTECER</td>\n",
       "      <td>11052</td>\n",
       "    </tr>\n",
       "    <tr>\n",
       "      <th>16762</th>\n",
       "      <td>2019-5-25</td>\n",
       "      <td>Ana Rosa</td>\n",
       "      <td>-23.5813</td>\n",
       "      <td>-46.6383</td>\n",
       "      <td>67188</td>\n",
       "      <td>67</td>\n",
       "      <td>9</td>\n",
       "      <td>65</td>\n",
       "      <td>38</td>\n",
       "      <td>28</td>\n",
       "      <td>43</td>\n",
       "      <td>6</td>\n",
       "      <td>2</td>\n",
       "      <td>REABASTECER</td>\n",
       "      <td>12025</td>\n",
       "    </tr>\n",
       "    <tr>\n",
       "      <th>16763</th>\n",
       "      <td>2019-6-24</td>\n",
       "      <td>Ana Rosa</td>\n",
       "      <td>-23.5813</td>\n",
       "      <td>-46.6383</td>\n",
       "      <td>64995</td>\n",
       "      <td>46</td>\n",
       "      <td>49</td>\n",
       "      <td>51</td>\n",
       "      <td>35</td>\n",
       "      <td>33</td>\n",
       "      <td>37</td>\n",
       "      <td>19</td>\n",
       "      <td>17</td>\n",
       "      <td>NORMAL</td>\n",
       "      <td>12054</td>\n",
       "    </tr>\n",
       "    <tr>\n",
       "      <th>16764</th>\n",
       "      <td>2018-9-25</td>\n",
       "      <td>São Joaquim</td>\n",
       "      <td>-23.5618</td>\n",
       "      <td>-46.6389</td>\n",
       "      <td>33082</td>\n",
       "      <td>62</td>\n",
       "      <td>47</td>\n",
       "      <td>34</td>\n",
       "      <td>8</td>\n",
       "      <td>25</td>\n",
       "      <td>43</td>\n",
       "      <td>43</td>\n",
       "      <td>5</td>\n",
       "      <td>REABASTECER</td>\n",
       "      <td>12505</td>\n",
       "    </tr>\n",
       "    <tr>\n",
       "      <th>16765</th>\n",
       "      <td>2018-3-4</td>\n",
       "      <td>São Judas</td>\n",
       "      <td>-23.6255</td>\n",
       "      <td>-46.6411</td>\n",
       "      <td>15307</td>\n",
       "      <td>78</td>\n",
       "      <td>33</td>\n",
       "      <td>44</td>\n",
       "      <td>40</td>\n",
       "      <td>43</td>\n",
       "      <td>25</td>\n",
       "      <td>32</td>\n",
       "      <td>24</td>\n",
       "      <td>NORMAL</td>\n",
       "      <td>13024</td>\n",
       "    </tr>\n",
       "  </tbody>\n",
       "</table>\n",
       "</div>"
      ],
      "text/plain": [
       "           Tempo      Estação      LAT     LONG  Movimentação  Original_473  \\\n",
       "16761  2018-9-12          Luz -23.5365 -46.6332        127141            11   \n",
       "16762  2019-5-25     Ana Rosa -23.5813 -46.6383         67188            67   \n",
       "16763  2019-6-24     Ana Rosa -23.5813 -46.6383         64995            46   \n",
       "16764  2018-9-25  São Joaquim -23.5618 -46.6389         33082            62   \n",
       "16765   2018-3-4    São Judas -23.6255 -46.6411         15307            78   \n",
       "\n",
       "       Original_269  Zero  Maçã-Verde  Tangerina  Citrus  Açaí-Guaraná  \\\n",
       "16761            32    33          38         17      26            43   \n",
       "16762             9    65          38         28      43             6   \n",
       "16763            49    51          35         33      37            19   \n",
       "16764            47    34           8         25      43            43   \n",
       "16765            33    44          40         43      25            32   \n",
       "\n",
       "       Pêssego       TARGET    row  \n",
       "16761       40  REABASTECER  11052  \n",
       "16762        2  REABASTECER  12025  \n",
       "16763       17       NORMAL  12054  \n",
       "16764        5  REABASTECER  12505  \n",
       "16765       24       NORMAL  13024  "
      ]
     },
     "execution_count": 14,
     "metadata": {},
     "output_type": "execute_result"
    }
   ],
   "source": [
    "df_training_dataset_imputed.tail()"
   ]
  },
  {
   "cell_type": "code",
   "execution_count": 15,
   "metadata": {},
   "outputs": [],
   "source": [
    "df_training_dataset_rmcolumns = df_training_dataset_imputed.drop(columns=['Tempo', 'Estação', 'LAT', 'LONG', 'Movimentação'], inplace=False)"
   ]
  },
  {
   "cell_type": "code",
   "execution_count": 16,
   "metadata": {},
   "outputs": [
    {
     "data": {
      "text/html": [
       "<div>\n",
       "<style scoped>\n",
       "    .dataframe tbody tr th:only-of-type {\n",
       "        vertical-align: middle;\n",
       "    }\n",
       "\n",
       "    .dataframe tbody tr th {\n",
       "        vertical-align: top;\n",
       "    }\n",
       "\n",
       "    .dataframe thead th {\n",
       "        text-align: right;\n",
       "    }\n",
       "</style>\n",
       "<table border=\"1\" class=\"dataframe\">\n",
       "  <thead>\n",
       "    <tr style=\"text-align: right;\">\n",
       "      <th></th>\n",
       "      <th>Original_473</th>\n",
       "      <th>Original_269</th>\n",
       "      <th>Zero</th>\n",
       "      <th>Maçã-Verde</th>\n",
       "      <th>Tangerina</th>\n",
       "      <th>Citrus</th>\n",
       "      <th>Açaí-Guaraná</th>\n",
       "      <th>Pêssego</th>\n",
       "      <th>TARGET</th>\n",
       "      <th>row</th>\n",
       "    </tr>\n",
       "  </thead>\n",
       "  <tbody>\n",
       "    <tr>\n",
       "      <th>16761</th>\n",
       "      <td>11</td>\n",
       "      <td>32</td>\n",
       "      <td>33</td>\n",
       "      <td>38</td>\n",
       "      <td>17</td>\n",
       "      <td>26</td>\n",
       "      <td>43</td>\n",
       "      <td>40</td>\n",
       "      <td>REABASTECER</td>\n",
       "      <td>11052</td>\n",
       "    </tr>\n",
       "    <tr>\n",
       "      <th>16762</th>\n",
       "      <td>67</td>\n",
       "      <td>9</td>\n",
       "      <td>65</td>\n",
       "      <td>38</td>\n",
       "      <td>28</td>\n",
       "      <td>43</td>\n",
       "      <td>6</td>\n",
       "      <td>2</td>\n",
       "      <td>REABASTECER</td>\n",
       "      <td>12025</td>\n",
       "    </tr>\n",
       "    <tr>\n",
       "      <th>16763</th>\n",
       "      <td>46</td>\n",
       "      <td>49</td>\n",
       "      <td>51</td>\n",
       "      <td>35</td>\n",
       "      <td>33</td>\n",
       "      <td>37</td>\n",
       "      <td>19</td>\n",
       "      <td>17</td>\n",
       "      <td>NORMAL</td>\n",
       "      <td>12054</td>\n",
       "    </tr>\n",
       "    <tr>\n",
       "      <th>16764</th>\n",
       "      <td>62</td>\n",
       "      <td>47</td>\n",
       "      <td>34</td>\n",
       "      <td>8</td>\n",
       "      <td>25</td>\n",
       "      <td>43</td>\n",
       "      <td>43</td>\n",
       "      <td>5</td>\n",
       "      <td>REABASTECER</td>\n",
       "      <td>12505</td>\n",
       "    </tr>\n",
       "    <tr>\n",
       "      <th>16765</th>\n",
       "      <td>78</td>\n",
       "      <td>33</td>\n",
       "      <td>44</td>\n",
       "      <td>40</td>\n",
       "      <td>43</td>\n",
       "      <td>25</td>\n",
       "      <td>32</td>\n",
       "      <td>24</td>\n",
       "      <td>NORMAL</td>\n",
       "      <td>13024</td>\n",
       "    </tr>\n",
       "  </tbody>\n",
       "</table>\n",
       "</div>"
      ],
      "text/plain": [
       "       Original_473  Original_269  Zero  Maçã-Verde  Tangerina  Citrus  \\\n",
       "16761            11            32    33          38         17      26   \n",
       "16762            67             9    65          38         28      43   \n",
       "16763            46            49    51          35         33      37   \n",
       "16764            62            47    34           8         25      43   \n",
       "16765            78            33    44          40         43      25   \n",
       "\n",
       "       Açaí-Guaraná  Pêssego       TARGET    row  \n",
       "16761            43       40  REABASTECER  11052  \n",
       "16762             6        2  REABASTECER  12025  \n",
       "16763            19       17       NORMAL  12054  \n",
       "16764            43        5  REABASTECER  12505  \n",
       "16765            32       24       NORMAL  13024  "
      ]
     },
     "execution_count": 16,
     "metadata": {},
     "output_type": "execute_result"
    }
   ],
   "source": [
    "df_training_dataset_rmcolumns.tail()"
   ]
  },
  {
   "cell_type": "markdown",
   "metadata": {},
   "source": [
    "# Atenção!\n",
    "\n",
    "As colunas removidas acima são apenas para fim de exemplo, você pode usar as colunas que quiser e inclusive criar novas colunas com dados que achar importantes!\n"
   ]
  },
  {
   "cell_type": "markdown",
   "metadata": {},
   "source": [
    "### Tratamento de de variáveis categóricas\n",
    "\n",
    "Como mencionado antes, os computadores não são bons com variáveis \"categóricas\" (ou strings).\n",
    "\n",
    "Dado uma coluna com variável categórica, o que podemos realizar é a codificação dessa coluna em múltiplas colunas contendo variáveis binárias. Esse processo é chamado de \"one-hot-encoding\" ou \"dummy encoding\". Se você não é familiarizado com esses termos, você pode pesquisar mais sobre isso na internet :)"
   ]
  },
  {
   "cell_type": "code",
   "execution_count": 17,
   "metadata": {},
   "outputs": [
    {
     "data": {
      "text/html": [
       "<div>\n",
       "<style scoped>\n",
       "    .dataframe tbody tr th:only-of-type {\n",
       "        vertical-align: middle;\n",
       "    }\n",
       "\n",
       "    .dataframe tbody tr th {\n",
       "        vertical-align: top;\n",
       "    }\n",
       "\n",
       "    .dataframe thead th {\n",
       "        text-align: right;\n",
       "    }\n",
       "</style>\n",
       "<table border=\"1\" class=\"dataframe\">\n",
       "  <thead>\n",
       "    <tr style=\"text-align: right;\">\n",
       "      <th></th>\n",
       "      <th>Original_473</th>\n",
       "      <th>Original_269</th>\n",
       "      <th>Zero</th>\n",
       "      <th>Maçã-Verde</th>\n",
       "      <th>Tangerina</th>\n",
       "      <th>Citrus</th>\n",
       "      <th>Açaí-Guaraná</th>\n",
       "      <th>Pêssego</th>\n",
       "      <th>TARGET</th>\n",
       "      <th>row</th>\n",
       "    </tr>\n",
       "  </thead>\n",
       "  <tbody>\n",
       "    <tr>\n",
       "      <th>16761</th>\n",
       "      <td>11</td>\n",
       "      <td>32</td>\n",
       "      <td>33</td>\n",
       "      <td>38</td>\n",
       "      <td>17</td>\n",
       "      <td>26</td>\n",
       "      <td>43</td>\n",
       "      <td>40</td>\n",
       "      <td>REABASTECER</td>\n",
       "      <td>11052</td>\n",
       "    </tr>\n",
       "    <tr>\n",
       "      <th>16762</th>\n",
       "      <td>67</td>\n",
       "      <td>9</td>\n",
       "      <td>65</td>\n",
       "      <td>38</td>\n",
       "      <td>28</td>\n",
       "      <td>43</td>\n",
       "      <td>6</td>\n",
       "      <td>2</td>\n",
       "      <td>REABASTECER</td>\n",
       "      <td>12025</td>\n",
       "    </tr>\n",
       "    <tr>\n",
       "      <th>16763</th>\n",
       "      <td>46</td>\n",
       "      <td>49</td>\n",
       "      <td>51</td>\n",
       "      <td>35</td>\n",
       "      <td>33</td>\n",
       "      <td>37</td>\n",
       "      <td>19</td>\n",
       "      <td>17</td>\n",
       "      <td>NORMAL</td>\n",
       "      <td>12054</td>\n",
       "    </tr>\n",
       "    <tr>\n",
       "      <th>16764</th>\n",
       "      <td>62</td>\n",
       "      <td>47</td>\n",
       "      <td>34</td>\n",
       "      <td>8</td>\n",
       "      <td>25</td>\n",
       "      <td>43</td>\n",
       "      <td>43</td>\n",
       "      <td>5</td>\n",
       "      <td>REABASTECER</td>\n",
       "      <td>12505</td>\n",
       "    </tr>\n",
       "    <tr>\n",
       "      <th>16765</th>\n",
       "      <td>78</td>\n",
       "      <td>33</td>\n",
       "      <td>44</td>\n",
       "      <td>40</td>\n",
       "      <td>43</td>\n",
       "      <td>25</td>\n",
       "      <td>32</td>\n",
       "      <td>24</td>\n",
       "      <td>NORMAL</td>\n",
       "      <td>13024</td>\n",
       "    </tr>\n",
       "  </tbody>\n",
       "</table>\n",
       "</div>"
      ],
      "text/plain": [
       "       Original_473  Original_269  Zero  Maçã-Verde  Tangerina  Citrus  \\\n",
       "16761            11            32    33          38         17      26   \n",
       "16762            67             9    65          38         28      43   \n",
       "16763            46            49    51          35         33      37   \n",
       "16764            62            47    34           8         25      43   \n",
       "16765            78            33    44          40         43      25   \n",
       "\n",
       "       Açaí-Guaraná  Pêssego       TARGET    row  \n",
       "16761            43       40  REABASTECER  11052  \n",
       "16762             6        2  REABASTECER  12025  \n",
       "16763            19       17       NORMAL  12054  \n",
       "16764            43        5  REABASTECER  12505  \n",
       "16765            32       24       NORMAL  13024  "
      ]
     },
     "execution_count": 17,
     "metadata": {},
     "output_type": "execute_result"
    }
   ],
   "source": [
    "# Tratando variáveis categóricas com o método Pandas ``get_dummies()''\n",
    "# df_training = pd.get_dummies(df_training_dataset_rmcolumns, columns=['Variável a ser aplicado método getDumies()'])\n",
    "df_training = df_training_dataset_rmcolumns\n",
    "df_training.tail()"
   ]
  },
  {
   "cell_type": "markdown",
   "metadata": {},
   "source": [
    "# Atenção!\n",
    "\n",
    "A coluna **TARGET** deve ser mantida como uma string. Você não precisa processar/codificar a variável-alvo."
   ]
  },
  {
   "cell_type": "markdown",
   "metadata": {},
   "source": [
    "<hr>"
   ]
  },
  {
   "cell_type": "markdown",
   "metadata": {},
   "source": [
    "## Treinando um classificador com base em uma árvore de decisão"
   ]
  },
  {
   "cell_type": "markdown",
   "metadata": {},
   "source": [
    "### Selecionando FEATURES e definindo a variável TARGET"
   ]
  },
  {
   "cell_type": "code",
   "execution_count": 18,
   "metadata": {},
   "outputs": [
    {
     "data": {
      "text/plain": [
       "Index(['Original_473', 'Original_269', 'Zero', 'Maçã-Verde', 'Tangerina',\n",
       "       'Citrus', 'Açaí-Guaraná', 'Pêssego', 'TARGET', 'row'],\n",
       "      dtype='object')"
      ]
     },
     "execution_count": 18,
     "metadata": {},
     "output_type": "execute_result"
    }
   ],
   "source": [
    "df_training.columns"
   ]
  },
  {
   "cell_type": "code",
   "execution_count": 19,
   "metadata": {},
   "outputs": [],
   "source": [
    "features = df_training[\n",
    "    [\n",
    "        'Original_473', 'Original_269', 'Zero', 'Maçã-Verde', 'Tangerina',\n",
    "       'Citrus', 'Açaí-Guaraná', 'Pêssego'\n",
    "    ]\n",
    "]\n",
    "target = df_training['TARGET']  ## NÃO TROQUE O NOME DA VARIÁVEL TARGET."
   ]
  },
  {
   "cell_type": "markdown",
   "metadata": {},
   "source": [
    "### Dividindo nosso conjunto de dados em conjuntos de treinamento e teste"
   ]
  },
  {
   "cell_type": "code",
   "execution_count": 20,
   "metadata": {},
   "outputs": [],
   "source": [
    "from sklearn.model_selection import train_test_split\n",
    "\n",
    "\n",
    "X_train, X_test, y_train, y_test = train_test_split(features, target, test_size=0.33, random_state=133)"
   ]
  },
  {
   "cell_type": "markdown",
   "metadata": {},
   "source": [
    "### Treinando uma árvore de decisão"
   ]
  },
  {
   "cell_type": "code",
   "execution_count": 21,
   "metadata": {},
   "outputs": [
    {
     "data": {
      "text/plain": [
       "RandomForestClassifier(max_depth=25, min_samples_leaf=2, min_samples_split=100,\n",
       "                       n_estimators=300, random_state=1)"
      ]
     },
     "execution_count": 21,
     "metadata": {},
     "output_type": "execute_result"
    }
   ],
   "source": [
    "# Método para criar um árvore de decisão\n",
    "from sklearn.tree import DecisionTreeClassifier\n",
    "from sklearn.ensemble import RandomForestClassifier\n",
    "\n",
    "\n",
    "dtc = DecisionTreeClassifier(max_depth=15).fit(X_train, y_train)\n",
    "dtc.fit(X_train, y_train)\n",
    "rfc = RandomForestClassifier(bootstrap=True, ccp_alpha=0.0, class_weight=None,\n",
    "                       criterion='gini', max_depth=25, max_features='auto',\n",
    "                       max_leaf_nodes=None, max_samples=None,\n",
    "                       min_impurity_decrease=0.0, min_impurity_split=None,\n",
    "                       min_samples_leaf=2, min_samples_split=100,\n",
    "                       min_weight_fraction_leaf=0.0, n_estimators=300,\n",
    "                       n_jobs=None, oob_score=False, random_state=1, verbose=0,\n",
    "                       warm_start=False)\n",
    "rfc.fit(X_train, y_train)"
   ]
  },
  {
   "cell_type": "markdown",
   "metadata": {},
   "source": [
    "### Fazendo previsões na amostra de teste"
   ]
  },
  {
   "cell_type": "code",
   "execution_count": 22,
   "metadata": {},
   "outputs": [
    {
     "name": "stdout",
     "output_type": "stream",
     "text": [
      "['NORMAL' 'NORMAL' 'NORMAL' ... 'NORMAL' 'NORMAL' 'NORMAL']\n",
      "['NORMAL' 'NORMAL' 'NORMAL' ... 'NORMAL' 'NORMAL' 'REABASTECER']\n"
     ]
    }
   ],
   "source": [
    "y_pred = dtc.predict(X_test)\n",
    "print(y_pred)\n",
    "\n",
    "y_pred_rf = rfc.predict(X_test)\n",
    "print(y_pred_rf)\n"
   ]
  },
  {
   "cell_type": "markdown",
   "metadata": {},
   "source": [
    "### Analisando a qualidade do modelo através da matriz de confusão"
   ]
  },
  {
   "cell_type": "code",
   "execution_count": 23,
   "metadata": {},
   "outputs": [],
   "source": [
    "import matplotlib.pyplot as plt\n",
    "import numpy as np\n",
    "import itertools\n",
    "\n",
    "\n",
    "def plot_confusion_matrix(cm, target_names, title='Confusion matrix', cmap=None, normalize=True):\n",
    "    accuracy = np.trace(cm) / float(np.sum(cm))\n",
    "    misclass = 1 - accuracy\n",
    "    if cmap is None:\n",
    "        cmap = plt.get_cmap('Blues')\n",
    "    plt.figure(figsize=(8, 6))\n",
    "    plt.imshow(cm, interpolation='nearest', cmap=cmap)\n",
    "    plt.title(title)\n",
    "    plt.colorbar()\n",
    "    if target_names is not None:\n",
    "        tick_marks = np.arange(len(target_names))\n",
    "        plt.xticks(tick_marks, target_names, rotation=45)\n",
    "        plt.yticks(tick_marks, target_names)\n",
    "    if normalize:\n",
    "        cm = cm.astype('float') / cm.sum(axis=1)[:, np.newaxis]\n",
    "    thresh = cm.max() / 1.5 if normalize else cm.max() / 2\n",
    "    for i, j in itertools.product(range(cm.shape[0]), range(cm.shape[1])):\n",
    "        if normalize:\n",
    "            plt.text(j, i, \"{:0.2f}\".format(cm[i, j]),\n",
    "                     horizontalalignment=\"center\",\n",
    "                     color=\"white\" if cm[i, j] > thresh else \"black\")\n",
    "        else:\n",
    "            plt.text(j, i, \"{:,}\".format(cm[i, j]),\n",
    "                     horizontalalignment=\"center\",\n",
    "                     color=\"white\" if cm[i, j] > thresh else \"black\")\n",
    "    plt.tight_layout()\n",
    "    plt.ylabel('True label')\n",
    "    plt.xlabel('Predicted label\\naccuracy={:0.4f}; misclass={:0.4f}'.format(accuracy, misclass))\n",
    "    plt.show()"
   ]
  },
  {
   "cell_type": "code",
   "execution_count": 24,
   "metadata": {},
   "outputs": [
    {
     "data": {
      "image/png": "[encoded data removed]",
      "text/plain": [
       "<Figure size 576x432 with 2 Axes>"
      ]
     },
     "metadata": {
      "needs_background": "light"
     },
     "output_type": "display_data"
    },
    {
     "data": {
      "image/png": "[encoded data removed]",
      "text/plain": [
       "<Figure size 576x432 with 2 Axes>"
      ]
     },
     "metadata": {
      "needs_background": "light"
     },
     "output_type": "display_data"
    }
   ],
   "source": [
    "from sklearn.metrics import confusion_matrix\n",
    "\n",
    "\n",
    "plot_confusion_matrix(confusion_matrix(y_test, y_pred), ['NORMAL', 'REABASTECER'])\n",
    "plot_confusion_matrix(confusion_matrix(y_test, y_pred_rf), ['NORMAL', 'REABASTECER'])"
   ]
  },
  {
   "cell_type": "markdown",
   "metadata": {},
   "source": [
    "<hr>"
   ]
  },
  {
   "cell_type": "markdown",
   "metadata": {},
   "source": [
    "## Scoring dos dados necessários para entregar a solução"
   ]
  },
  {
   "cell_type": "markdown",
   "metadata": {},
   "source": [
    "Como entrega da sua solução, esperamos os resultados classificados no seguinte dataset chamado \"to_be_scored.csv\":"
   ]
  },
  {
   "cell_type": "markdown",
   "metadata": {},
   "source": [
    "### Download da \"folha de respostas\""
   ]
  },
  {
   "cell_type": "code",
   "execution_count": 25,
   "metadata": {
    "scrolled": false
   },
   "outputs": [
    {
     "name": "stdout",
     "output_type": "stream",
     "text": [
      "--2020-09-10 11:36:09--  https://gitlab.com/JoaoPedroPP/datasets/-/raw/master/ntn/to_be_scored.csv\n",
      "Resolving gitlab.com (gitlab.com)... 172.65.251.78, 2606:4700:90:0:f22e:fbec:5bed:a9b9\n",
      "Connecting to gitlab.com (gitlab.com)|172.65.251.78|:443... connected.\n",
      "HTTP request sent, awaiting response... 200 OK\n",
      "Length: unspecified [text/plain]\n",
      "Saving to: ‘to_be_scored.csv’\n",
      "\n",
      "    [ <=>                                   ] 70,291      --.-K/s   in 0.002s  \n",
      "\n",
      "2020-09-10 11:36:09 (37.7 MB/s) - ‘to_be_scored.csv’ saved [70291]\n",
      "\n"
     ]
    },
    {
     "data": {
      "text/html": [
       "<div>\n",
       "<style scoped>\n",
       "    .dataframe tbody tr th:only-of-type {\n",
       "        vertical-align: middle;\n",
       "    }\n",
       "\n",
       "    .dataframe tbody tr th {\n",
       "        vertical-align: top;\n",
       "    }\n",
       "\n",
       "    .dataframe thead th {\n",
       "        text-align: right;\n",
       "    }\n",
       "</style>\n",
       "<table border=\"1\" class=\"dataframe\">\n",
       "  <thead>\n",
       "    <tr style=\"text-align: right;\">\n",
       "      <th></th>\n",
       "      <th>Tempo</th>\n",
       "      <th>Estação</th>\n",
       "      <th>LAT</th>\n",
       "      <th>LONG</th>\n",
       "      <th>Movimentação</th>\n",
       "      <th>Original_473</th>\n",
       "      <th>Original_269</th>\n",
       "      <th>Zero</th>\n",
       "      <th>Maçã-Verde</th>\n",
       "      <th>Tangerina</th>\n",
       "      <th>Citrus</th>\n",
       "      <th>Açaí-Guaraná</th>\n",
       "      <th>Pêssego</th>\n",
       "    </tr>\n",
       "  </thead>\n",
       "  <tbody>\n",
       "    <tr>\n",
       "      <th>979</th>\n",
       "      <td>2019-8-19</td>\n",
       "      <td>Hospital São Paulo</td>\n",
       "      <td>-23.5984</td>\n",
       "      <td>-46.6455</td>\n",
       "      <td>26787</td>\n",
       "      <td>34</td>\n",
       "      <td>65</td>\n",
       "      <td>28</td>\n",
       "      <td>17</td>\n",
       "      <td>33</td>\n",
       "      <td>27</td>\n",
       "      <td>6</td>\n",
       "      <td>2</td>\n",
       "    </tr>\n",
       "    <tr>\n",
       "      <th>980</th>\n",
       "      <td>2019-8-20</td>\n",
       "      <td>Hospital São Paulo</td>\n",
       "      <td>-23.5984</td>\n",
       "      <td>-46.6455</td>\n",
       "      <td>26629</td>\n",
       "      <td>21</td>\n",
       "      <td>60</td>\n",
       "      <td>18</td>\n",
       "      <td>15</td>\n",
       "      <td>27</td>\n",
       "      <td>22</td>\n",
       "      <td>43</td>\n",
       "      <td>43</td>\n",
       "    </tr>\n",
       "    <tr>\n",
       "      <th>981</th>\n",
       "      <td>2019-8-21</td>\n",
       "      <td>Hospital São Paulo</td>\n",
       "      <td>-23.5984</td>\n",
       "      <td>-46.6455</td>\n",
       "      <td>27517</td>\n",
       "      <td>9</td>\n",
       "      <td>56</td>\n",
       "      <td>13</td>\n",
       "      <td>14</td>\n",
       "      <td>21</td>\n",
       "      <td>17</td>\n",
       "      <td>37</td>\n",
       "      <td>37</td>\n",
       "    </tr>\n",
       "    <tr>\n",
       "      <th>982</th>\n",
       "      <td>2019-8-22</td>\n",
       "      <td>Hospital São Paulo</td>\n",
       "      <td>-23.5984</td>\n",
       "      <td>-46.6455</td>\n",
       "      <td>26860</td>\n",
       "      <td>86</td>\n",
       "      <td>49</td>\n",
       "      <td>7</td>\n",
       "      <td>14</td>\n",
       "      <td>17</td>\n",
       "      <td>12</td>\n",
       "      <td>33</td>\n",
       "      <td>33</td>\n",
       "    </tr>\n",
       "    <tr>\n",
       "      <th>983</th>\n",
       "      <td>2019-8-23</td>\n",
       "      <td>Hospital São Paulo</td>\n",
       "      <td>-23.5984</td>\n",
       "      <td>-46.6455</td>\n",
       "      <td>24571</td>\n",
       "      <td>74</td>\n",
       "      <td>41</td>\n",
       "      <td>65</td>\n",
       "      <td>8</td>\n",
       "      <td>14</td>\n",
       "      <td>7</td>\n",
       "      <td>27</td>\n",
       "      <td>27</td>\n",
       "    </tr>\n",
       "  </tbody>\n",
       "</table>\n",
       "</div>"
      ],
      "text/plain": [
       "         Tempo             Estação      LAT     LONG  Movimentação  \\\n",
       "979  2019-8-19  Hospital São Paulo -23.5984 -46.6455         26787   \n",
       "980  2019-8-20  Hospital São Paulo -23.5984 -46.6455         26629   \n",
       "981  2019-8-21  Hospital São Paulo -23.5984 -46.6455         27517   \n",
       "982  2019-8-22  Hospital São Paulo -23.5984 -46.6455         26860   \n",
       "983  2019-8-23  Hospital São Paulo -23.5984 -46.6455         24571   \n",
       "\n",
       "     Original_473  Original_269  Zero  Maçã-Verde  Tangerina  Citrus  \\\n",
       "979            34            65    28          17         33      27   \n",
       "980            21            60    18          15         27      22   \n",
       "981             9            56    13          14         21      17   \n",
       "982            86            49     7          14         17      12   \n",
       "983            74            41    65           8         14       7   \n",
       "\n",
       "     Açaí-Guaraná  Pêssego  \n",
       "979             6        2  \n",
       "980            43       43  \n",
       "981            37       37  \n",
       "982            33       33  \n",
       "983            27       27  "
      ]
     },
     "execution_count": 25,
     "metadata": {},
     "output_type": "execute_result"
    }
   ],
   "source": [
    "!wget --no-check-certificate --content-disposition https://gitlab.com/JoaoPedroPP/datasets/-/raw/master/ntn/to_be_scored.csv\n",
    "df_to_be_scored = pd.read_csv(r'to_be_scored.csv')\n",
    "df_to_be_scored.tail()"
   ]
  },
  {
   "cell_type": "code",
   "execution_count": 26,
   "metadata": {},
   "outputs": [
    {
     "data": {
      "text/html": [
       "<div>\n",
       "<style scoped>\n",
       "    .dataframe tbody tr th:only-of-type {\n",
       "        vertical-align: middle;\n",
       "    }\n",
       "\n",
       "    .dataframe tbody tr th {\n",
       "        vertical-align: top;\n",
       "    }\n",
       "\n",
       "    .dataframe thead th {\n",
       "        text-align: right;\n",
       "    }\n",
       "</style>\n",
       "<table border=\"1\" class=\"dataframe\">\n",
       "  <thead>\n",
       "    <tr style=\"text-align: right;\">\n",
       "      <th></th>\n",
       "      <th>Tempo</th>\n",
       "      <th>Estação</th>\n",
       "      <th>LAT</th>\n",
       "      <th>LONG</th>\n",
       "      <th>Movimentação</th>\n",
       "      <th>Original_473</th>\n",
       "      <th>Original_269</th>\n",
       "      <th>Zero</th>\n",
       "      <th>Maçã-Verde</th>\n",
       "      <th>Tangerina</th>\n",
       "      <th>Citrus</th>\n",
       "      <th>Açaí-Guaraná</th>\n",
       "      <th>Pêssego</th>\n",
       "    </tr>\n",
       "  </thead>\n",
       "  <tbody>\n",
       "    <tr>\n",
       "      <th>979</th>\n",
       "      <td>2019-8-19</td>\n",
       "      <td>Hospital São Paulo</td>\n",
       "      <td>-23.5984</td>\n",
       "      <td>-46.6455</td>\n",
       "      <td>26787</td>\n",
       "      <td>34</td>\n",
       "      <td>65</td>\n",
       "      <td>28</td>\n",
       "      <td>17</td>\n",
       "      <td>33</td>\n",
       "      <td>27</td>\n",
       "      <td>6</td>\n",
       "      <td>2</td>\n",
       "    </tr>\n",
       "    <tr>\n",
       "      <th>980</th>\n",
       "      <td>2019-8-20</td>\n",
       "      <td>Hospital São Paulo</td>\n",
       "      <td>-23.5984</td>\n",
       "      <td>-46.6455</td>\n",
       "      <td>26629</td>\n",
       "      <td>21</td>\n",
       "      <td>60</td>\n",
       "      <td>18</td>\n",
       "      <td>15</td>\n",
       "      <td>27</td>\n",
       "      <td>22</td>\n",
       "      <td>43</td>\n",
       "      <td>43</td>\n",
       "    </tr>\n",
       "    <tr>\n",
       "      <th>981</th>\n",
       "      <td>2019-8-21</td>\n",
       "      <td>Hospital São Paulo</td>\n",
       "      <td>-23.5984</td>\n",
       "      <td>-46.6455</td>\n",
       "      <td>27517</td>\n",
       "      <td>9</td>\n",
       "      <td>56</td>\n",
       "      <td>13</td>\n",
       "      <td>14</td>\n",
       "      <td>21</td>\n",
       "      <td>17</td>\n",
       "      <td>37</td>\n",
       "      <td>37</td>\n",
       "    </tr>\n",
       "    <tr>\n",
       "      <th>982</th>\n",
       "      <td>2019-8-22</td>\n",
       "      <td>Hospital São Paulo</td>\n",
       "      <td>-23.5984</td>\n",
       "      <td>-46.6455</td>\n",
       "      <td>26860</td>\n",
       "      <td>86</td>\n",
       "      <td>49</td>\n",
       "      <td>7</td>\n",
       "      <td>14</td>\n",
       "      <td>17</td>\n",
       "      <td>12</td>\n",
       "      <td>33</td>\n",
       "      <td>33</td>\n",
       "    </tr>\n",
       "    <tr>\n",
       "      <th>983</th>\n",
       "      <td>2019-8-23</td>\n",
       "      <td>Hospital São Paulo</td>\n",
       "      <td>-23.5984</td>\n",
       "      <td>-46.6455</td>\n",
       "      <td>24571</td>\n",
       "      <td>74</td>\n",
       "      <td>41</td>\n",
       "      <td>65</td>\n",
       "      <td>8</td>\n",
       "      <td>14</td>\n",
       "      <td>7</td>\n",
       "      <td>27</td>\n",
       "      <td>27</td>\n",
       "    </tr>\n",
       "  </tbody>\n",
       "</table>\n",
       "</div>"
      ],
      "text/plain": [
       "         Tempo             Estação      LAT     LONG  Movimentação  \\\n",
       "979  2019-8-19  Hospital São Paulo -23.5984 -46.6455         26787   \n",
       "980  2019-8-20  Hospital São Paulo -23.5984 -46.6455         26629   \n",
       "981  2019-8-21  Hospital São Paulo -23.5984 -46.6455         27517   \n",
       "982  2019-8-22  Hospital São Paulo -23.5984 -46.6455         26860   \n",
       "983  2019-8-23  Hospital São Paulo -23.5984 -46.6455         24571   \n",
       "\n",
       "     Original_473  Original_269  Zero  Maçã-Verde  Tangerina  Citrus  \\\n",
       "979            34            65    28          17         33      27   \n",
       "980            21            60    18          15         27      22   \n",
       "981             9            56    13          14         21      17   \n",
       "982            86            49     7          14         17      12   \n",
       "983            74            41    65           8         14       7   \n",
       "\n",
       "     Açaí-Guaraná  Pêssego  \n",
       "979             6        2  \n",
       "980            43       43  \n",
       "981            37       37  \n",
       "982            33       33  \n",
       "983            27       27  "
      ]
     },
     "execution_count": 26,
     "metadata": {},
     "output_type": "execute_result"
    }
   ],
   "source": [
    "df_to_be_scored = pd.read_csv('to_be_scored.csv')\n",
    "df_to_be_scored.tail()"
   ]
  },
  {
   "cell_type": "markdown",
   "metadata": {},
   "source": [
    "# Atenção!\n",
    "\n",
    "O dataframe ``to_be_scored`` é a sua \"folha de respostas\". Note que a coluna \"TARGET\" não existe nessa amostra, que não pode ser então utilizada para treino de modelos de aprendizado supervisionado."
   ]
  },
  {
   "cell_type": "code",
   "execution_count": 27,
   "metadata": {
    "scrolled": true
   },
   "outputs": [
    {
     "name": "stdout",
     "output_type": "stream",
     "text": [
      "<class 'pandas.core.frame.DataFrame'>\n",
      "RangeIndex: 984 entries, 0 to 983\n",
      "Data columns (total 13 columns):\n",
      "Tempo           984 non-null object\n",
      "Estação         984 non-null object\n",
      "LAT             984 non-null float64\n",
      "LONG            984 non-null float64\n",
      "Movimentação    984 non-null int64\n",
      "Original_473    984 non-null int64\n",
      "Original_269    984 non-null int64\n",
      "Zero            984 non-null int64\n",
      "Maçã-Verde      984 non-null int64\n",
      "Tangerina       984 non-null int64\n",
      "Citrus          984 non-null int64\n",
      "Açaí-Guaraná    984 non-null int64\n",
      "Pêssego         984 non-null int64\n",
      "dtypes: float64(2), int64(9), object(2)\n",
      "memory usage: 100.0+ KB\n"
     ]
    }
   ],
   "source": [
    "df_to_be_scored.info()"
   ]
  },
  {
   "cell_type": "markdown",
   "metadata": {},
   "source": [
    "<hr>\n",
    "\n",
    "# Atenção!\n",
    "\n",
    "# Para poder aplicar seu modelo e classificar a folha de respostas, você precisa primeiro aplicar as mesmas transformações com colunas que você aplicou no dataset de treino.\n",
    "\n",
    "# Não remova ou adicione linhas na folha de respostas. \n",
    "\n",
    "# Não altere a ordem das linhas na folha de respostas.\n",
    "\n",
    "# Ao final, as 1000 entradas devem estar classificadas, com os valores previstos em uma coluna chamada \"target\"\n",
    "\n",
    "<hr>"
   ]
  },
  {
   "cell_type": "markdown",
   "metadata": {},
   "source": [
    "Na célula abaixo, repetimos rapidamente os mesmos passos de pré-processamento usados no exemplo dado com árvore de decisão"
   ]
  },
  {
   "cell_type": "code",
   "execution_count": 28,
   "metadata": {},
   "outputs": [
    {
     "data": {
      "text/html": [
       "<div>\n",
       "<style scoped>\n",
       "    .dataframe tbody tr th:only-of-type {\n",
       "        vertical-align: middle;\n",
       "    }\n",
       "\n",
       "    .dataframe tbody tr th {\n",
       "        vertical-align: top;\n",
       "    }\n",
       "\n",
       "    .dataframe thead th {\n",
       "        text-align: right;\n",
       "    }\n",
       "</style>\n",
       "<table border=\"1\" class=\"dataframe\">\n",
       "  <thead>\n",
       "    <tr style=\"text-align: right;\">\n",
       "      <th></th>\n",
       "      <th>Original_473</th>\n",
       "      <th>Original_269</th>\n",
       "      <th>Zero</th>\n",
       "      <th>Maçã-Verde</th>\n",
       "      <th>Tangerina</th>\n",
       "      <th>Citrus</th>\n",
       "      <th>Açaí-Guaraná</th>\n",
       "      <th>Pêssego</th>\n",
       "    </tr>\n",
       "  </thead>\n",
       "  <tbody>\n",
       "    <tr>\n",
       "      <th>979</th>\n",
       "      <td>34</td>\n",
       "      <td>65</td>\n",
       "      <td>28</td>\n",
       "      <td>17</td>\n",
       "      <td>33</td>\n",
       "      <td>27</td>\n",
       "      <td>6</td>\n",
       "      <td>2</td>\n",
       "    </tr>\n",
       "    <tr>\n",
       "      <th>980</th>\n",
       "      <td>21</td>\n",
       "      <td>60</td>\n",
       "      <td>18</td>\n",
       "      <td>15</td>\n",
       "      <td>27</td>\n",
       "      <td>22</td>\n",
       "      <td>43</td>\n",
       "      <td>43</td>\n",
       "    </tr>\n",
       "    <tr>\n",
       "      <th>981</th>\n",
       "      <td>9</td>\n",
       "      <td>56</td>\n",
       "      <td>13</td>\n",
       "      <td>14</td>\n",
       "      <td>21</td>\n",
       "      <td>17</td>\n",
       "      <td>37</td>\n",
       "      <td>37</td>\n",
       "    </tr>\n",
       "    <tr>\n",
       "      <th>982</th>\n",
       "      <td>86</td>\n",
       "      <td>49</td>\n",
       "      <td>7</td>\n",
       "      <td>14</td>\n",
       "      <td>17</td>\n",
       "      <td>12</td>\n",
       "      <td>33</td>\n",
       "      <td>33</td>\n",
       "    </tr>\n",
       "    <tr>\n",
       "      <th>983</th>\n",
       "      <td>74</td>\n",
       "      <td>41</td>\n",
       "      <td>65</td>\n",
       "      <td>8</td>\n",
       "      <td>14</td>\n",
       "      <td>7</td>\n",
       "      <td>27</td>\n",
       "      <td>27</td>\n",
       "    </tr>\n",
       "  </tbody>\n",
       "</table>\n",
       "</div>"
      ],
      "text/plain": [
       "     Original_473  Original_269  Zero  Maçã-Verde  Tangerina  Citrus  \\\n",
       "979            34            65    28          17         33      27   \n",
       "980            21            60    18          15         27      22   \n",
       "981             9            56    13          14         21      17   \n",
       "982            86            49     7          14         17      12   \n",
       "983            74            41    65           8         14       7   \n",
       "\n",
       "     Açaí-Guaraná  Pêssego  \n",
       "979             6        2  \n",
       "980            43       43  \n",
       "981            37       37  \n",
       "982            33       33  \n",
       "983            27       27  "
      ]
     },
     "execution_count": 28,
     "metadata": {},
     "output_type": "execute_result"
    }
   ],
   "source": [
    "# 1 - Removendo linhas com valores NaN\n",
    "df_to_be_scored_1 = df_to_be_scored.dropna(axis='index', how='any', subset=['Tempo', 'Estação', 'LAT', 'LONG', 'Movimentação', 'Original_473', 'Original_269', 'Zero', 'Maçã-Verde', 'Tangerina', 'Citrus', 'Açaí-Guaraná', 'Pêssego'])\n",
    "\n",
    "# 2 - Inputando zeros nos valores faltantes\n",
    "impute_zeros.fit(X=df_to_be_scored_1)\n",
    "df_to_be_scored_2 = pd.DataFrame.from_records(\n",
    "    data=impute_zeros.transform(\n",
    "        X=df_to_be_scored_1\n",
    "    ),\n",
    "    columns=df_to_be_scored_1.columns\n",
    ")\n",
    "\n",
    "# 3 - Remoção de colunas\n",
    "df_to_be_scored_3 = df_to_be_scored_2.drop(columns=['Tempo', 'Estação', 'LAT', 'LONG', 'Movimentação'], inplace=False)\n",
    "\n",
    "# 4 - Encoding com \"dummy variables\" (se necessário)\n",
    "# df_to_be_scored_4 = pd.get_dummies(df_to_be_scored_3, columns=['Váriavel com dummy'])\n",
    "df_to_be_scored_4 = df_to_be_scored_3\n",
    "\n",
    "df_to_be_scored_4.tail()"
   ]
  },
  {
   "cell_type": "markdown",
   "metadata": {},
   "source": [
    "<hr>\n",
    "\n",
    "Pode ser verificado abaixo que as colunas da folha de resposta agora são idênticas às que foram usadas para treinar o modelo:"
   ]
  },
  {
   "cell_type": "code",
   "execution_count": 29,
   "metadata": {},
   "outputs": [
    {
     "data": {
      "text/plain": [
       "Index(['Original_473', 'Original_269', 'Zero', 'Maçã-Verde', 'Tangerina',\n",
       "       'Citrus', 'Açaí-Guaraná', 'Pêssego'],\n",
       "      dtype='object')"
      ]
     },
     "execution_count": 29,
     "metadata": {},
     "output_type": "execute_result"
    }
   ],
   "source": [
    "df_training[\n",
    "    [\n",
    "        'Original_473', 'Original_269', 'Zero', 'Maçã-Verde', 'Tangerina',\n",
    "       'Citrus', 'Açaí-Guaraná', 'Pêssego'\n",
    "    ]\n",
    "].columns"
   ]
  },
  {
   "cell_type": "code",
   "execution_count": 30,
   "metadata": {},
   "outputs": [
    {
     "data": {
      "text/plain": [
       "Index(['Original_473', 'Original_269', 'Zero', 'Maçã-Verde', 'Tangerina',\n",
       "       'Citrus', 'Açaí-Guaraná', 'Pêssego'],\n",
       "      dtype='object')"
      ]
     },
     "execution_count": 30,
     "metadata": {},
     "output_type": "execute_result"
    }
   ],
   "source": [
    "df_to_be_scored_4.columns"
   ]
  },
  {
   "cell_type": "markdown",
   "metadata": {},
   "source": [
    "# Atenção\n",
    "\n",
    "Para todas colunas que não existirem no \"df_to_be_scored\", você pode usar a técnica abaixo para adicioná-las:"
   ]
  },
  {
   "cell_type": "code",
   "execution_count": 31,
   "metadata": {
    "scrolled": false
   },
   "outputs": [
    {
     "data": {
      "text/html": [
       "<div>\n",
       "<style scoped>\n",
       "    .dataframe tbody tr th:only-of-type {\n",
       "        vertical-align: middle;\n",
       "    }\n",
       "\n",
       "    .dataframe tbody tr th {\n",
       "        vertical-align: top;\n",
       "    }\n",
       "\n",
       "    .dataframe thead th {\n",
       "        text-align: right;\n",
       "    }\n",
       "</style>\n",
       "<table border=\"1\" class=\"dataframe\">\n",
       "  <thead>\n",
       "    <tr style=\"text-align: right;\">\n",
       "      <th></th>\n",
       "      <th>Original_473</th>\n",
       "      <th>Original_269</th>\n",
       "      <th>Zero</th>\n",
       "      <th>Maçã-Verde</th>\n",
       "      <th>Tangerina</th>\n",
       "      <th>Citrus</th>\n",
       "      <th>Açaí-Guaraná</th>\n",
       "      <th>Pêssego</th>\n",
       "      <th>TARGET</th>\n",
       "    </tr>\n",
       "  </thead>\n",
       "  <tbody>\n",
       "    <tr>\n",
       "      <th>979</th>\n",
       "      <td>34</td>\n",
       "      <td>65</td>\n",
       "      <td>28</td>\n",
       "      <td>17</td>\n",
       "      <td>33</td>\n",
       "      <td>27</td>\n",
       "      <td>6</td>\n",
       "      <td>2</td>\n",
       "      <td>REABASTECER</td>\n",
       "    </tr>\n",
       "    <tr>\n",
       "      <th>980</th>\n",
       "      <td>21</td>\n",
       "      <td>60</td>\n",
       "      <td>18</td>\n",
       "      <td>15</td>\n",
       "      <td>27</td>\n",
       "      <td>22</td>\n",
       "      <td>43</td>\n",
       "      <td>43</td>\n",
       "      <td>NORMAL</td>\n",
       "    </tr>\n",
       "    <tr>\n",
       "      <th>981</th>\n",
       "      <td>9</td>\n",
       "      <td>56</td>\n",
       "      <td>13</td>\n",
       "      <td>14</td>\n",
       "      <td>21</td>\n",
       "      <td>17</td>\n",
       "      <td>37</td>\n",
       "      <td>37</td>\n",
       "      <td>REABASTECER</td>\n",
       "    </tr>\n",
       "    <tr>\n",
       "      <th>982</th>\n",
       "      <td>86</td>\n",
       "      <td>49</td>\n",
       "      <td>7</td>\n",
       "      <td>14</td>\n",
       "      <td>17</td>\n",
       "      <td>12</td>\n",
       "      <td>33</td>\n",
       "      <td>33</td>\n",
       "      <td>REABASTECER</td>\n",
       "    </tr>\n",
       "    <tr>\n",
       "      <th>983</th>\n",
       "      <td>74</td>\n",
       "      <td>41</td>\n",
       "      <td>65</td>\n",
       "      <td>8</td>\n",
       "      <td>14</td>\n",
       "      <td>7</td>\n",
       "      <td>27</td>\n",
       "      <td>27</td>\n",
       "      <td>NORMAL</td>\n",
       "    </tr>\n",
       "  </tbody>\n",
       "</table>\n",
       "</div>"
      ],
      "text/plain": [
       "     Original_473  Original_269  Zero  Maçã-Verde  Tangerina  Citrus  \\\n",
       "979            34            65    28          17         33      27   \n",
       "980            21            60    18          15         27      22   \n",
       "981             9            56    13          14         21      17   \n",
       "982            86            49     7          14         17      12   \n",
       "983            74            41    65           8         14       7   \n",
       "\n",
       "     Açaí-Guaraná  Pêssego       TARGET  \n",
       "979             6        2  REABASTECER  \n",
       "980            43       43       NORMAL  \n",
       "981            37       37  REABASTECER  \n",
       "982            33       33  REABASTECER  \n",
       "983            27       27       NORMAL  "
      ]
     },
     "execution_count": 31,
     "metadata": {},
     "output_type": "execute_result"
    }
   ],
   "source": [
    "y_pred = rfc.predict(df_to_be_scored_4)\n",
    "df_to_be_scored_4['TARGET'] = y_pred\n",
    "df_to_be_scored_4.tail()"
   ]
  },
  {
   "cell_type": "markdown",
   "metadata": {},
   "source": [
    "### Salvando a folha de respostas como um arquivo .csv para ser submetido"
   ]
  },
  {
   "cell_type": "code",
   "execution_count": 32,
   "metadata": {},
   "outputs": [
    {
     "data": {
      "text/plain": [
       "{'file_name': 'results.csv',\n",
       " 'message': 'File saved to project storage.',\n",
       " 'bucket_name': 'desafio7-donotdelete-pr-mjose7a3gb8ama',\n",
       " 'asset_id': '78c6932b-1c26-4820-bef7-dd446059632e'}"
      ]
     },
     "execution_count": 32,
     "metadata": {},
     "output_type": "execute_result"
    }
   ],
   "source": [
    "project.save_data(file_name=\"results.csv\", data=df_to_be_scored_4.to_csv(index=False))"
   ]
  },
  {
   "cell_type": "markdown",
   "metadata": {},
   "source": [
    "# Atenção\n",
    "\n",
    "# A execução da célula acima irá criar um novo \"data asset\" no seu projeto no Watson Studio. Você precisará realizar o download deste arquivo juntamente com este notebook e criar um arquivo zip com os arquivos **results.csv** e **notebook.ipynb** para submissão. (os arquivos devem estar nomeados desta forma)"
   ]
  },
  {
   "cell_type": "markdown",
   "metadata": {},
   "source": [
    "<hr>\n",
    "\n",
    "## Parabéns!\n",
    "\n",
    "Se você já está satisfeito com a sua solução, vá até a página abaixo e envie os arquivos necessários para submissão.\n",
    "\n",
    "# https://tnt.maratona.dev\n"
   ]
  },
  {
   "cell_type": "code",
   "execution_count": null,
   "metadata": {},
   "outputs": [],
   "source": []
  }
 ],
 "metadata": {
  "kernelspec": {
   "display_name": "Python 3.6",
   "language": "python",
   "name": "python3"
  },
  "language_info": {
   "codemirror_mode": {
    "name": "ipython",
    "version": 3
   },
   "file_extension": ".py",
   "mimetype": "text/x-python",
   "name": "python",
   "nbconvert_exporter": "python",
   "pygments_lexer": "ipython3",
   "version": "3.6.9"
  }
 },
 "nbformat": 4,
 "nbformat_minor": 1
}
